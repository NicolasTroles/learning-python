{
 "cells": [
  {
   "cell_type": "code",
   "execution_count": 1,
   "id": "74b0cd12",
   "metadata": {},
   "outputs": [
    {
     "name": "stdout",
     "output_type": "stream",
     "text": [
      "This is x 0\n",
      "This is x 1\n",
      "This is x 2\n",
      "This is x 3\n",
      "This is x 4\n",
      "Its over\n"
     ]
    }
   ],
   "source": [
    "x = 0\n",
    "\n",
    "while x < 5:\n",
    "    print(f'This is x {x}')\n",
    "    x += 1\n",
    "else:\n",
    "    print('Its over')"
   ]
  },
  {
   "cell_type": "code",
   "execution_count": null,
   "id": "fa7b8f48",
   "metadata": {},
   "outputs": [],
   "source": []
  }
 ],
 "metadata": {
  "kernelspec": {
   "display_name": "Python 3 (ipykernel)",
   "language": "python",
   "name": "python3"
  },
  "language_info": {
   "codemirror_mode": {
    "name": "ipython",
    "version": 3
   },
   "file_extension": ".py",
   "mimetype": "text/x-python",
   "name": "python",
   "nbconvert_exporter": "python",
   "pygments_lexer": "ipython3",
   "version": "3.11.5"
  }
 },
 "nbformat": 4,
 "nbformat_minor": 5
}
