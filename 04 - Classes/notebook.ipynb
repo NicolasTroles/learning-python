{
 "cells": [
  {
   "cell_type": "code",
   "execution_count": 22,
   "id": "51becc22",
   "metadata": {},
   "outputs": [],
   "source": [
    "class Dog():\n",
    "    def __init__(self, breed, color):\n",
    "        self.breed = breed\n",
    "        self.color = color\n"
   ]
  },
  {
   "cell_type": "code",
   "execution_count": 23,
   "id": "f269d746",
   "metadata": {},
   "outputs": [],
   "source": [
    "my_dog = Dog(breed='Pit', color='brown')"
   ]
  },
  {
   "cell_type": "code",
   "execution_count": 3,
   "id": "047dc62c",
   "metadata": {},
   "outputs": [
    {
     "data": {
      "text/plain": [
       "__main__.Dog"
      ]
     },
     "execution_count": 3,
     "metadata": {},
     "output_type": "execute_result"
    }
   ],
   "source": [
    "type(my_dog)"
   ]
  },
  {
   "cell_type": "code",
   "execution_count": 17,
   "id": "b63994c4",
   "metadata": {},
   "outputs": [
    {
     "data": {
      "text/plain": [
       "12"
      ]
     },
     "execution_count": 17,
     "metadata": {},
     "output_type": "execute_result"
    }
   ],
   "source": [
    "my_dog.size"
   ]
  },
  {
   "cell_type": "code",
   "execution_count": 48,
   "id": "8a7ae015",
   "metadata": {},
   "outputs": [],
   "source": [
    "class Dog():\n",
    "    size = 'small'\n",
    "    def __init__(self, breed, name, color, newSize):\n",
    "        self.name = name\n",
    "        self.breed = breed\n",
    "        self.color = color\n",
    "        self.size = newSize\n",
    "        \n",
    "    def bark(self, times = 1):\n",
    "        print(f'{self.name} ' + ('Woof! '* times))"
   ]
  },
  {
   "cell_type": "code",
   "execution_count": 49,
   "id": "d574508e",
   "metadata": {},
   "outputs": [],
   "source": [
    "my_dog = Dog('Pit', 'Kin', 'brown', 'big')"
   ]
  },
  {
   "cell_type": "code",
   "execution_count": 50,
   "id": "0d826551",
   "metadata": {},
   "outputs": [
    {
     "data": {
      "text/plain": [
       "'big'"
      ]
     },
     "execution_count": 50,
     "metadata": {},
     "output_type": "execute_result"
    }
   ],
   "source": [
    "my_dog.size"
   ]
  },
  {
   "cell_type": "code",
   "execution_count": 51,
   "id": "fda67d92",
   "metadata": {},
   "outputs": [
    {
     "name": "stdout",
     "output_type": "stream",
     "text": [
      "Kin Woof! Woof! Woof! Woof! Woof! \n"
     ]
    }
   ],
   "source": [
    "my_dog.bark(5)"
   ]
  },
  {
   "cell_type": "code",
   "execution_count": 20,
   "id": "2c7631ed",
   "metadata": {},
   "outputs": [],
   "source": [
    "# heritage\n",
    "class Person():\n",
    "    def __init__(self):\n",
    "        print('I am a person')\n",
    "    \n",
    "    def speak(self):\n",
    "        print('Heeyyy')"
   ]
  },
  {
   "cell_type": "code",
   "execution_count": 11,
   "id": "160772c6",
   "metadata": {},
   "outputs": [],
   "source": [
    "class Nik(Person):\n",
    "    name = 'Nik'\n",
    "    def __init__(self):\n",
    "        Person.__init__(self)\n",
    "    \n",
    "    def fala(self):\n",
    "        print('Hey I am ' + self.name)\n",
    "        \n",
    "    def speak(self):\n",
    "        print('Different print')\n",
    "    "
   ]
  },
  {
   "cell_type": "code",
   "execution_count": 12,
   "id": "63012edf",
   "metadata": {},
   "outputs": [
    {
     "name": "stdout",
     "output_type": "stream",
     "text": [
      "I am a person\n"
     ]
    }
   ],
   "source": [
    "nik = Nik()"
   ]
  },
  {
   "cell_type": "code",
   "execution_count": 13,
   "id": "2f36963b",
   "metadata": {},
   "outputs": [
    {
     "name": "stdout",
     "output_type": "stream",
     "text": [
      "Different print\n"
     ]
    }
   ],
   "source": [
    "nik.speak()"
   ]
  },
  {
   "cell_type": "code",
   "execution_count": 10,
   "id": "c08eb57f",
   "metadata": {},
   "outputs": [
    {
     "name": "stdout",
     "output_type": "stream",
     "text": [
      "Hey I am Nik\n"
     ]
    }
   ],
   "source": [
    "nik.fala()\n"
   ]
  },
  {
   "cell_type": "code",
   "execution_count": 31,
   "id": "3057ee7e",
   "metadata": {},
   "outputs": [],
   "source": [
    "# polymorphism\n",
    "class Person():\n",
    "    def __init__(self, name):\n",
    "        self.name = name\n",
    "        \n",
    "    def walk(self):\n",
    "        raise NotImplementedError('Need to implement in the subclass')\n",
    "    \n",
    "    def __str__(self):\n",
    "        return f'My name is {self.name}'"
   ]
  },
  {
   "cell_type": "code",
   "execution_count": 32,
   "id": "bd3c2ca3",
   "metadata": {},
   "outputs": [
    {
     "ename": "NotImplementedError",
     "evalue": "Need to implement in the subclass",
     "output_type": "error",
     "traceback": [
      "\u001b[0;31m---------------------------------------------------------------------------\u001b[0m",
      "\u001b[0;31mNotImplementedError\u001b[0m                       Traceback (most recent call last)",
      "Cell \u001b[0;32mIn[32], line 2\u001b[0m\n\u001b[1;32m      1\u001b[0m nik \u001b[38;5;241m=\u001b[39m Person(\u001b[38;5;124m'\u001b[39m\u001b[38;5;124mNik\u001b[39m\u001b[38;5;124m'\u001b[39m)\n\u001b[0;32m----> 2\u001b[0m nik\u001b[38;5;241m.\u001b[39mwalk()\n",
      "Cell \u001b[0;32mIn[31], line 7\u001b[0m, in \u001b[0;36mPerson.walk\u001b[0;34m(self)\u001b[0m\n\u001b[1;32m      6\u001b[0m \u001b[38;5;28;01mdef\u001b[39;00m \u001b[38;5;21mwalk\u001b[39m(\u001b[38;5;28mself\u001b[39m):\n\u001b[0;32m----> 7\u001b[0m     \u001b[38;5;28;01mraise\u001b[39;00m \u001b[38;5;167;01mNotImplementedError\u001b[39;00m(\u001b[38;5;124m'\u001b[39m\u001b[38;5;124mNeed to implement in the subclass\u001b[39m\u001b[38;5;124m'\u001b[39m)\n",
      "\u001b[0;31mNotImplementedError\u001b[0m: Need to implement in the subclass"
     ]
    }
   ],
   "source": [
    "nik = Person('Nik')\n",
    "nik.walk()"
   ]
  },
  {
   "cell_type": "code",
   "execution_count": 33,
   "id": "2ffc9dcf",
   "metadata": {},
   "outputs": [],
   "source": [
    "class Nik(Person):\n",
    "    def walk(self):\n",
    "        print('Im walking! ' + self.name)"
   ]
  },
  {
   "cell_type": "code",
   "execution_count": 34,
   "id": "f2f39558",
   "metadata": {},
   "outputs": [
    {
     "name": "stdout",
     "output_type": "stream",
     "text": [
      "Im walking! Nik\n"
     ]
    }
   ],
   "source": [
    "nik = Nik('Nik')\n",
    "nik.walk()"
   ]
  },
  {
   "cell_type": "code",
   "execution_count": 35,
   "id": "fadb6c63",
   "metadata": {},
   "outputs": [
    {
     "name": "stdout",
     "output_type": "stream",
     "text": [
      "My name is Nik\n"
     ]
    }
   ],
   "source": [
    "print(nik)"
   ]
  },
  {
   "cell_type": "code",
   "execution_count": null,
   "id": "4cb5afcc",
   "metadata": {},
   "outputs": [],
   "source": []
  }
 ],
 "metadata": {
  "kernelspec": {
   "display_name": "Python 3 (ipykernel)",
   "language": "python",
   "name": "python3"
  },
  "language_info": {
   "codemirror_mode": {
    "name": "ipython",
    "version": 3
   },
   "file_extension": ".py",
   "mimetype": "text/x-python",
   "name": "python",
   "nbconvert_exporter": "python",
   "pygments_lexer": "ipython3",
   "version": "3.11.5"
  }
 },
 "nbformat": 4,
 "nbformat_minor": 5
}
